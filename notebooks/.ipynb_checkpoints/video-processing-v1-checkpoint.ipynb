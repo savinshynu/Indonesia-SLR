{
 "cells": [
  {
   "cell_type": "code",
   "execution_count": 1,
   "metadata": {},
   "outputs": [
    {
     "name": "stdout",
     "output_type": "stream",
     "text": [
      "Intel MKL WARNING: Support of Intel(R) Streaming SIMD Extensions 4.2 (Intel(R) SSE4.2) enabled only processors has been deprecated. Intel oneAPI Math Kernel Library 2025.0 will require Intel(R) Advanced Vector Extensions (Intel(R) AVX) instructions.\n",
      "Intel MKL WARNING: Support of Intel(R) Streaming SIMD Extensions 4.2 (Intel(R) SSE4.2) enabled only processors has been deprecated. Intel oneAPI Math Kernel Library 2025.0 will require Intel(R) Advanced Vector Extensions (Intel(R) AVX) instructions.\n"
     ]
    }
   ],
   "source": [
    "import os\n",
    "import cv2\n",
    "import numpy as np\n",
    "from tqdm.notebook import tqdm"
   ]
  },
  {
   "cell_type": "code",
   "execution_count": 2,
   "metadata": {},
   "outputs": [],
   "source": [
    "def resize_video(video_path, target_size=(224, 224)):\n",
    "    cap = cv2.VideoCapture(video_path)\n",
    "    if not cap.isOpened():\n",
    "        print(f\"Error opening video file: {video_path}\")\n",
    "        return None, None\n",
    "\n",
    "    fps = cap.get(cv2.CAP_PROP_FPS)\n",
    "    frames = []\n",
    "\n",
    "    while True:\n",
    "        ret, frame = cap.read()\n",
    "        if not ret:\n",
    "            break\n",
    "        resized_frame = cv2.resize(frame, target_size)\n",
    "        frames.append(resized_frame)\n",
    "\n",
    "    cap.release()\n",
    "    return frames, fps"
   ]
  },
  {
   "cell_type": "code",
   "execution_count": 3,
   "metadata": {},
   "outputs": [],
   "source": [
    "def print_video_metadata(video_path):\n",
    "    vid = cv2.VideoCapture(video_path)\n",
    "    if not vid.isOpened():\n",
    "        print(f\"Error opening video file: {video_path}\")\n",
    "        return None, None\n",
    "   \n",
    "    # Get the framerate\n",
    "    fr = vid.get(cv2.CAP_PROP_FPS)\n",
    "\n",
    "    # Total number of frames\n",
    "    nframes = vid.get(cv2.CAP_PROP_FRAME_COUNT)\n",
    "\n",
    "    # Duration\n",
    "    dur = nframes/fr\n",
    "    \n",
    "    # Video height and width\n",
    "    height = vid.get(cv2.CAP_PROP_FRAME_HEIGHT)\n",
    "    width = vid.get(cv2.CAP_PROP_FRAME_WIDTH)\n",
    "    \n",
    "    print(f\"{os.path.basename(video_path)}, Frame rate: {int(fr)}, No. of Frames : {int(nframes)}, Duration:{dur:0.2f}s, Height {height}, Width {width}\")\n",
    "\n",
    "    vid.release()"
   ]
  },
  {
   "cell_type": "code",
   "execution_count": 4,
   "metadata": {},
   "outputs": [],
   "source": [
    "def normalize_fps(frames, fps, target_fps=30):\n",
    "    if fps == target_fps:\n",
    "        return frames\n",
    "\n",
    "    num_frames = len(frames)\n",
    "    duration = num_frames / fps\n",
    "    target_num_frames = int(duration * target_fps)\n",
    "\n",
    "    frame_indices = np.linspace(0, num_frames - 1, target_num_frames, dtype=int)\n",
    "    normalized_frames = [frames[i] for i in frame_indices]\n",
    "    return normalized_frames"
   ]
  },
  {
   "cell_type": "code",
   "execution_count": 5,
   "metadata": {},
   "outputs": [],
   "source": [
    "def apply_brightness_normalization(frames):\n",
    "    clahe = cv2.createCLAHE(clipLimit=2.0, tileGridSize=(8, 8))\n",
    "    normalized_frames = []\n",
    "    for frame in frames:\n",
    "        gray = cv2.cvtColor(frame, cv2.COLOR_BGR2GRAY)\n",
    "        cl = clahe.apply(gray)\n",
    "        frame[:, :, 0] = cl\n",
    "        frame[:, :, 1] = cl\n",
    "        frame[:, :, 2] = cl\n",
    "        normalized_frames.append(frame)\n",
    "    return normalized_frames"
   ]
  },
  {
   "cell_type": "code",
   "execution_count": 6,
   "metadata": {},
   "outputs": [],
   "source": [
    "def calculate_frame_difference(frame1, frame2):\n",
    "    gray1 = cv2.cvtColor(frame1, cv2.COLOR_BGR2GRAY)\n",
    "    gray2 = cv2.cvtColor(frame2, cv2.COLOR_BGR2GRAY)\n",
    "    frame_diff = cv2.absdiff(gray1, gray2)\n",
    "    _, thresh = cv2.threshold(frame_diff, 30, 255, cv2.THRESH_BINARY)\n",
    "    return np.sum(thresh)\n",
    "\n",
    "\n",
    "def select_motion_videos(frames, motion_threshold=50000):\n",
    "    total_motion = 0\n",
    "    for i in range(len(frames) - 1):\n",
    "        total_motion += calculate_frame_difference(frames[i], frames[i + 1])\n",
    "    return total_motion > motion_threshold"
   ]
  },
  {
   "cell_type": "code",
   "execution_count": 7,
   "metadata": {},
   "outputs": [],
   "source": [
    "def normalize_video_duration(frames, target_length=30):\n",
    "    num_frames = len(frames)\n",
    "    if num_frames == target_length:\n",
    "        return frames\n",
    "    elif num_frames < target_length:\n",
    "        frame_indices = np.linspace(0, num_frames - 1, target_length, dtype=int)\n",
    "        interpolated_frames = [frames[i] for i in frame_indices]\n",
    "        return interpolated_frames\n",
    "    else:\n",
    "        frame_indices = np.linspace(0, num_frames - 1, target_length, dtype=int)\n",
    "        sampled_frames = [frames[i] for i in frame_indices]\n",
    "        return sampled_frames"
   ]
  },
  {
   "cell_type": "code",
   "execution_count": 67,
   "metadata": {},
   "outputs": [],
   "source": [
    "def save_video(frames, output_path, target_fps=30):\n",
    "    height, width, _ = frames[0].shape\n",
    "    #fourcc = cv2.VideoWriter_fourcc(*\"m\",\"p\",\"4\",\"v\")\n",
    "    #fourcc = -1\n",
    "    fourcc = cv2.VideoWriter_fourcc(*\"MJPG\")\n",
    "    try:\n",
    "        out = cv2.VideoWriter(output_path, fourcc, target_fps, (width, height))\n",
    "    except Exception as e:\n",
    "        print(f\"Writing error: {e}\")\n",
    "   \n",
    "    for frame in frames:\n",
    "        out.write(frame)\n",
    "    out.release()\n",
    "\n",
    "\n",
    "def preprocess_pipeline(\n",
    "    input_root,\n",
    "    output_root,\n",
    "    #target_size=(224, 224),\n",
    "    target_size=(270, 180),\n",
    "    target_fps=30,\n",
    "    target_length=60\n",
    "):\n",
    "    \n",
    "\n",
    "    # Iterate over subfolders corresponding to labels\n",
    "    for label in os.listdir(input_root)[:1]:\n",
    "        label_input_folder = os.path.join(input_root, label)\n",
    "        label_output_folder = os.path.join(output_root, label)\n",
    "\n",
    "        if not os.path.isdir(label_input_folder):  # Skip non-folder entries\n",
    "            continue\n",
    "\n",
    "        os.makedirs(label_output_folder, exist_ok=True)\n",
    "        print(f\"Processing {label} Videos\")\n",
    "        \n",
    "        # Iterate over video files in the label subfolder\n",
    "        for file in os.listdir(label_input_folder):\n",
    "            \n",
    "            video_path = os.path.join(label_input_folder, file)\n",
    "            output_path = os.path.join(\n",
    "                label_output_folder,\n",
    "                f\"{os.path.splitext(file)[0]}_processed.avi\")\n",
    "            print(output_path)\n",
    "\n",
    "            try:\n",
    "                # collect metadata from video files\n",
    "                #print_video_metadata(video_path)\n",
    "                \n",
    "                # Resize video\n",
    "                frames, fps = resize_video(video_path, target_size)\n",
    "                if frames is None:\n",
    "                    continue\n",
    "\n",
    "                # Normalize FPS\n",
    "                frames = normalize_fps(frames, fps, target_fps)\n",
    "\n",
    "                # Brightness normalization\n",
    "                #frames = apply_brightness_normalization(frames)\n",
    "\n",
    "                # Motion-based selection\n",
    "                # if not select_motion_videos(frames, motion_threshold):\n",
    "                #     continue\n",
    "\n",
    "                # Normalize duration\n",
    "                frames = normalize_video_duration(frames, target_length)\n",
    "                print(len(frames))\n",
    "\n",
    "                # Save the final processed video\n",
    "                save_video(frames, output_path, target_fps)\n",
    "\n",
    "            except Exception as e:\n",
    "                print(f\"Error processing {video_path}: {e}\")"
   ]
  },
  {
   "cell_type": "code",
   "execution_count": 69,
   "metadata": {},
   "outputs": [
    {
     "name": "stdout",
     "output_type": "stream",
     "text": [
      "Processing lihat Videos\n",
      "/Users/savin/Omdena-Projects/Indonesia-SLR/data/data_processed_v1/lihat/1_processed.avi\n",
      "60\n",
      "/Users/savin/Omdena-Projects/Indonesia-SLR/data/data_processed_v1/lihat/kenji_processed.avi\n",
      "60\n",
      "/Users/savin/Omdena-Projects/Indonesia-SLR/data/data_processed_v1/lihat/Deepa_processed.avi\n"
     ]
    },
    {
     "name": "stderr",
     "output_type": "stream",
     "text": [
      "[ WARN:0@2796.828] global cap.cpp:645 open VIDEOIO(CV_IMAGES): raised OpenCV exception:\n",
      "\n",
      "OpenCV(4.10.0) /private/var/folders/c8/g5hp4hlx7dv6gv7n9zdg74rc0000gn/T/pip-install-6ybia1vd/opencv-python_de8432955da54479b40018f63363c85f/opencv/modules/videoio/src/cap_images.cpp:430: error: (-215:Assertion failed) !filename_pattern.empty() in function 'open'\n",
      "\n",
      "\n"
     ]
    },
    {
     "name": "stdout",
     "output_type": "stream",
     "text": [
      "60\n",
      "/Users/savin/Omdena-Projects/Indonesia-SLR/data/data_processed_v1/lihat/mahsa_processed.avi\n"
     ]
    },
    {
     "name": "stderr",
     "output_type": "stream",
     "text": [
      "[ WARN:0@2797.070] global cap.cpp:645 open VIDEOIO(CV_IMAGES): raised OpenCV exception:\n",
      "\n",
      "OpenCV(4.10.0) /private/var/folders/c8/g5hp4hlx7dv6gv7n9zdg74rc0000gn/T/pip-install-6ybia1vd/opencv-python_de8432955da54479b40018f63363c85f/opencv/modules/videoio/src/cap_images.cpp:430: error: (-215:Assertion failed) !filename_pattern.empty() in function 'open'\n",
      "\n",
      "\n"
     ]
    },
    {
     "name": "stdout",
     "output_type": "stream",
     "text": [
      "60\n",
      "/Users/savin/Omdena-Projects/Indonesia-SLR/data/data_processed_v1/lihat/dina_lihat_processed.avi\n",
      "60\n",
      "/Users/savin/Omdena-Projects/Indonesia-SLR/data/data_processed_v1/lihat/nadya_processed.avi\n"
     ]
    },
    {
     "name": "stderr",
     "output_type": "stream",
     "text": [
      "[ WARN:0@2797.428] global cap.cpp:645 open VIDEOIO(CV_IMAGES): raised OpenCV exception:\n",
      "\n",
      "OpenCV(4.10.0) /private/var/folders/c8/g5hp4hlx7dv6gv7n9zdg74rc0000gn/T/pip-install-6ybia1vd/opencv-python_de8432955da54479b40018f63363c85f/opencv/modules/videoio/src/cap_images.cpp:430: error: (-215:Assertion failed) !filename_pattern.empty() in function 'open'\n",
      "\n",
      "\n",
      "[ WARN:0@2797.575] global cap.cpp:645 open VIDEOIO(CV_IMAGES): raised OpenCV exception:\n",
      "\n",
      "OpenCV(4.10.0) /private/var/folders/c8/g5hp4hlx7dv6gv7n9zdg74rc0000gn/T/pip-install-6ybia1vd/opencv-python_de8432955da54479b40018f63363c85f/opencv/modules/videoio/src/cap_images.cpp:430: error: (-215:Assertion failed) !filename_pattern.empty() in function 'open'\n",
      "\n",
      "\n"
     ]
    },
    {
     "name": "stdout",
     "output_type": "stream",
     "text": [
      "60\n",
      "/Users/savin/Omdena-Projects/Indonesia-SLR/data/data_processed_v1/lihat/Arun_processed.avi\n",
      "60\n"
     ]
    },
    {
     "name": "stderr",
     "output_type": "stream",
     "text": [
      "[ WARN:0@2797.749] global cap.cpp:645 open VIDEOIO(CV_IMAGES): raised OpenCV exception:\n",
      "\n",
      "OpenCV(4.10.0) /private/var/folders/c8/g5hp4hlx7dv6gv7n9zdg74rc0000gn/T/pip-install-6ybia1vd/opencv-python_de8432955da54479b40018f63363c85f/opencv/modules/videoio/src/cap_images.cpp:430: error: (-215:Assertion failed) !filename_pattern.empty() in function 'open'\n",
      "\n",
      "\n",
      "[ WARN:0@2797.929] global cap.cpp:645 open VIDEOIO(CV_IMAGES): raised OpenCV exception:\n",
      "\n",
      "OpenCV(4.10.0) /private/var/folders/c8/g5hp4hlx7dv6gv7n9zdg74rc0000gn/T/pip-install-6ybia1vd/opencv-python_de8432955da54479b40018f63363c85f/opencv/modules/videoio/src/cap_images.cpp:430: error: (-215:Assertion failed) !filename_pattern.empty() in function 'open'\n",
      "\n",
      "\n"
     ]
    },
    {
     "name": "stdout",
     "output_type": "stream",
     "text": [
      "/Users/savin/Omdena-Projects/Indonesia-SLR/data/data_processed_v1/lihat/Ellen_processed.avi\n",
      "60\n",
      "/Users/savin/Omdena-Projects/Indonesia-SLR/data/data_processed_v1/lihat/shikha_processed.avi\n"
     ]
    },
    {
     "name": "stderr",
     "output_type": "stream",
     "text": [
      "[ WARN:0@2798.654] global cap.cpp:645 open VIDEOIO(CV_IMAGES): raised OpenCV exception:\n",
      "\n",
      "OpenCV(4.10.0) /private/var/folders/c8/g5hp4hlx7dv6gv7n9zdg74rc0000gn/T/pip-install-6ybia1vd/opencv-python_de8432955da54479b40018f63363c85f/opencv/modules/videoio/src/cap_images.cpp:430: error: (-215:Assertion failed) !filename_pattern.empty() in function 'open'\n",
      "\n",
      "\n"
     ]
    },
    {
     "name": "stdout",
     "output_type": "stream",
     "text": [
      "60\n",
      "/Users/savin/Omdena-Projects/Indonesia-SLR/data/data_processed_v1/lihat/Anastasiia_processed.avi\n"
     ]
    },
    {
     "name": "stderr",
     "output_type": "stream",
     "text": [
      "[ WARN:0@2798.908] global cap.cpp:645 open VIDEOIO(CV_IMAGES): raised OpenCV exception:\n",
      "\n",
      "OpenCV(4.10.0) /private/var/folders/c8/g5hp4hlx7dv6gv7n9zdg74rc0000gn/T/pip-install-6ybia1vd/opencv-python_de8432955da54479b40018f63363c85f/opencv/modules/videoio/src/cap_images.cpp:430: error: (-215:Assertion failed) !filename_pattern.empty() in function 'open'\n",
      "\n",
      "\n"
     ]
    },
    {
     "name": "stdout",
     "output_type": "stream",
     "text": [
      "60\n"
     ]
    },
    {
     "name": "stderr",
     "output_type": "stream",
     "text": [
      "[ WARN:0@2799.141] global cap.cpp:645 open VIDEOIO(CV_IMAGES): raised OpenCV exception:\n",
      "\n",
      "OpenCV(4.10.0) /private/var/folders/c8/g5hp4hlx7dv6gv7n9zdg74rc0000gn/T/pip-install-6ybia1vd/opencv-python_de8432955da54479b40018f63363c85f/opencv/modules/videoio/src/cap_images.cpp:430: error: (-215:Assertion failed) !filename_pattern.empty() in function 'open'\n",
      "\n",
      "\n"
     ]
    }
   ],
   "source": [
    "input_folder = \"/Users/savin/Omdena-Projects/Indonesia-SLR/data/raw_data/\"  # Path to input videos\n",
    "output_folder = \"/Users/savin/Omdena-Projects/Indonesia-SLR/data/data_processed_v1/\"  # Path to save final processed videos\n",
    "preprocess_pipeline(input_folder, output_folder)"
   ]
  },
  {
   "cell_type": "code",
   "execution_count": 45,
   "metadata": {},
   "outputs": [
    {
     "name": "stdout",
     "output_type": "stream",
     "text": [
      "good\n"
     ]
    }
   ],
   "source": [
    "filepath = \"/Users/savin/Omdena-Projects/Indonesia-SLR/data/data_processed_v1/lihat/1_processed.mp4\"\n",
    "fourcc = cv2.VideoWriter_fourcc(*\"mp4v\")\n",
    "out = cv2.VideoWriter(filepath, -1, 30, (224, 224))\n",
    "if out:\n",
    "    print(\"good\")\n",
    "out.write(np.zeros((224,224,3)))\n",
    "out.release()"
   ]
  },
  {
   "cell_type": "code",
   "execution_count": 39,
   "metadata": {},
   "outputs": [
    {
     "name": "stdout",
     "output_type": "stream",
     "text": [
      "good\n"
     ]
    }
   ],
   "source": [
    "\n",
    "if fourcc:\n",
    "    print(\"good\")"
   ]
  }
 ],
 "metadata": {
  "kernelspec": {
   "display_name": "Python 3 (ipykernel)",
   "language": "python",
   "name": "python3"
  },
  "language_info": {
   "codemirror_mode": {
    "name": "ipython",
    "version": 3
   },
   "file_extension": ".py",
   "mimetype": "text/x-python",
   "name": "python",
   "nbconvert_exporter": "python",
   "pygments_lexer": "ipython3",
   "version": "3.9.18"
  }
 },
 "nbformat": 4,
 "nbformat_minor": 4
}
