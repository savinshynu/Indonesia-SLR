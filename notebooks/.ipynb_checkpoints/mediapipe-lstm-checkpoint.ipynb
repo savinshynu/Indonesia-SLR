{
 "cells": [
  {
   "cell_type": "markdown",
   "id": "98dd483a-5418-4073-9af8-fd7c436ee22a",
   "metadata": {},
   "source": [
    "In this notebook we will focus on extracting key landmark features from images using mediapipe and will train an LSTM model for sign language recognition."
   ]
  }
 ],
 "metadata": {
  "kernelspec": {
   "display_name": "Python 3 (ipykernel)",
   "language": "python",
   "name": "python3"
  },
  "language_info": {
   "codemirror_mode": {
    "name": "ipython",
    "version": 3
   },
   "file_extension": ".py",
   "mimetype": "text/x-python",
   "name": "python",
   "nbconvert_exporter": "python",
   "pygments_lexer": "ipython3",
   "version": "3.11.9"
  }
 },
 "nbformat": 4,
 "nbformat_minor": 5
}
